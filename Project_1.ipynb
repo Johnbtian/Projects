{
 "cells": [
  {
   "cell_type": "markdown",
   "metadata": {},
   "source": [
    "## Test Project: To-Do List Manager\n",
    "\n",
    "# Project Description: \n",
    "\n",
    "Create a simple to-do list manager using Python. The program will allow users to add tasks, mark tasks as completed, list tasks, and remove tasks.\n",
    "\n",
    "**Requirements:**\n",
    "\n",
    "* **Basic User Interface:**\n",
    "\n",
    "Upon starting the program, display a welcome message and a list of available actions: \n",
    "\n",
    "```\n",
    "1. Add Task, \n",
    "2. Mark Task as Completed,\n",
    "3. List Tasks,\n",
    "4. Remove Task, and \n",
    "5. Quit.\n",
    "```\n",
    "* **Task List:**\n",
    "\n",
    "Implement a way to store tasks. You can use a list or any other appropriate data structure.\n",
    "\n",
    "* **Add Task:**\n",
    "\n",
    "When the user selects the `Add Task` option, prompt them to enter the task description.\n",
    "\n",
    "Add the task to the task list.\n",
    "\n",
    "* **Mark Task as Completed:**\n",
    "\n",
    "Allow the user to mark a task as completed by entering its index in the task list.\n",
    "\n",
    "If the task is already marked as completed, display an appropriate message.\n",
    "\n",
    "* **List Tasks:**\n",
    "\n",
    "Display a numbered list of tasks along with their completion status.\n",
    "\n",
    "* **Remove Task:**\n",
    "\n",
    "Allow the user to remove a task by entering its index in the task list.\n",
    "\n",
    "* **Quit:**\n",
    "\n",
    "When the user selects the `Quit` option, display a `goodbye` message and terminate the program.\n",
    "\n"
   ]
  },
  {
   "cell_type": "code",
   "execution_count": 2,
   "metadata": {},
   "outputs": [
    {
     "name": "stdout",
     "output_type": "stream",
     "text": [
      "Welcome to the To-Do List Manager!\n",
      "1. Add Task\n",
      "2. Mark Task as Completed\n",
      "3. List Tasks\n",
      "4. Remove Task\n",
      "5. Quit\n"
     ]
    },
    {
     "name": "stdin",
     "output_type": "stream",
     "text": [
      "Enter your choice:  1\n",
      "Enter the task description:  Early Physical Activity\n"
     ]
    },
    {
     "name": "stdout",
     "output_type": "stream",
     "text": [
      "Task added!\n",
      "Welcome to the To-Do List Manager!\n",
      "1. Add Task\n",
      "2. Mark Task as Completed\n",
      "3. List Tasks\n",
      "4. Remove Task\n",
      "5. Quit\n"
     ]
    },
    {
     "name": "stdin",
     "output_type": "stream",
     "text": [
      "Enter your choice:  1\n",
      "Enter the task description:  Eat Some(Healthy) Food\n"
     ]
    },
    {
     "name": "stdout",
     "output_type": "stream",
     "text": [
      "Task added!\n",
      "Welcome to the To-Do List Manager!\n",
      "1. Add Task\n",
      "2. Mark Task as Completed\n",
      "3. List Tasks\n",
      "4. Remove Task\n",
      "5. Quit\n"
     ]
    },
    {
     "name": "stdin",
     "output_type": "stream",
     "text": [
      "Enter your choice:  1\n",
      "Enter the task description:  Watch a Movie\n"
     ]
    },
    {
     "name": "stdout",
     "output_type": "stream",
     "text": [
      "Task added!\n",
      "Welcome to the To-Do List Manager!\n",
      "1. Add Task\n",
      "2. Mark Task as Completed\n",
      "3. List Tasks\n",
      "4. Remove Task\n",
      "5. Quit\n"
     ]
    },
    {
     "name": "stdin",
     "output_type": "stream",
     "text": [
      "Enter your choice:  1\n",
      "Enter the task description:  Take a Shower!\n"
     ]
    },
    {
     "name": "stdout",
     "output_type": "stream",
     "text": [
      "Task added!\n",
      "Welcome to the To-Do List Manager!\n",
      "1. Add Task\n",
      "2. Mark Task as Completed\n",
      "3. List Tasks\n",
      "4. Remove Task\n",
      "5. Quit\n"
     ]
    },
    {
     "name": "stdin",
     "output_type": "stream",
     "text": [
      "Enter your choice:  1\n",
      "Enter the task description:  Take a Nature Walk\n"
     ]
    },
    {
     "name": "stdout",
     "output_type": "stream",
     "text": [
      "Task added!\n",
      "Welcome to the To-Do List Manager!\n",
      "1. Add Task\n",
      "2. Mark Task as Completed\n",
      "3. List Tasks\n",
      "4. Remove Task\n",
      "5. Quit\n"
     ]
    },
    {
     "name": "stdin",
     "output_type": "stream",
     "text": [
      "Enter your choice:  3\n"
     ]
    },
    {
     "name": "stdout",
     "output_type": "stream",
     "text": [
      "Task List:\n",
      "0. Early Physical Activity Not Done\n",
      "1. Eat Some(Healthy) Food Not Done\n",
      "2. Watch a Movie Not Done\n",
      "3. Take a Shower! Not Done\n",
      "4. Take a Nature Walk Not Done\n",
      "Welcome to the To-Do List Manager!\n",
      "1. Add Task\n",
      "2. Mark Task as Completed\n",
      "3. List Tasks\n",
      "4. Remove Task\n",
      "5. Quit\n"
     ]
    },
    {
     "name": "stdin",
     "output_type": "stream",
     "text": [
      "Enter your choice:  2\n"
     ]
    },
    {
     "name": "stdout",
     "output_type": "stream",
     "text": [
      "Tasks:\n",
      "Task List:\n",
      "0. Early Physical Activity Not Done\n",
      "1. Eat Some(Healthy) Food Not Done\n",
      "2. Watch a Movie Not Done\n",
      "3. Take a Shower! Not Done\n",
      "4. Take a Nature Walk Not Done\n"
     ]
    },
    {
     "name": "stdin",
     "output_type": "stream",
     "text": [
      "Enter the index of the task to mark as completed:  0\n"
     ]
    },
    {
     "name": "stdout",
     "output_type": "stream",
     "text": [
      "Task marked as completed!\n",
      "Welcome to the To-Do List Manager!\n",
      "1. Add Task\n",
      "2. Mark Task as Completed\n",
      "3. List Tasks\n",
      "4. Remove Task\n",
      "5. Quit\n"
     ]
    },
    {
     "name": "stdin",
     "output_type": "stream",
     "text": [
      "Enter your choice:  2\n"
     ]
    },
    {
     "name": "stdout",
     "output_type": "stream",
     "text": [
      "Tasks:\n",
      "Task List:\n",
      "0. Early Physical Activity Done\n",
      "1. Eat Some(Healthy) Food Not Done\n",
      "2. Watch a Movie Not Done\n",
      "3. Take a Shower! Not Done\n",
      "4. Take a Nature Walk Not Done\n"
     ]
    },
    {
     "name": "stdin",
     "output_type": "stream",
     "text": [
      "Enter the index of the task to mark as completed:  1\n"
     ]
    },
    {
     "name": "stdout",
     "output_type": "stream",
     "text": [
      "Task marked as completed!\n",
      "Welcome to the To-Do List Manager!\n",
      "1. Add Task\n",
      "2. Mark Task as Completed\n",
      "3. List Tasks\n",
      "4. Remove Task\n",
      "5. Quit\n"
     ]
    },
    {
     "name": "stdin",
     "output_type": "stream",
     "text": [
      "Enter your choice:  2\n"
     ]
    },
    {
     "name": "stdout",
     "output_type": "stream",
     "text": [
      "Tasks:\n",
      "Task List:\n",
      "0. Early Physical Activity Done\n",
      "1. Eat Some(Healthy) Food Done\n",
      "2. Watch a Movie Not Done\n",
      "3. Take a Shower! Not Done\n",
      "4. Take a Nature Walk Not Done\n"
     ]
    },
    {
     "name": "stdin",
     "output_type": "stream",
     "text": [
      "Enter the index of the task to mark as completed:  3\n"
     ]
    },
    {
     "name": "stdout",
     "output_type": "stream",
     "text": [
      "Task marked as completed!\n",
      "Welcome to the To-Do List Manager!\n",
      "1. Add Task\n",
      "2. Mark Task as Completed\n",
      "3. List Tasks\n",
      "4. Remove Task\n",
      "5. Quit\n"
     ]
    },
    {
     "name": "stdin",
     "output_type": "stream",
     "text": [
      "Enter your choice:  4\n"
     ]
    },
    {
     "name": "stdout",
     "output_type": "stream",
     "text": [
      "Tasks:\n",
      "Task List:\n",
      "0. Early Physical Activity Done\n",
      "1. Eat Some(Healthy) Food Done\n",
      "2. Watch a Movie Not Done\n",
      "3. Take a Shower! Done\n",
      "4. Take a Nature Walk Not Done\n"
     ]
    },
    {
     "name": "stdin",
     "output_type": "stream",
     "text": [
      "Enter the index of the task to remove:  2\n"
     ]
    },
    {
     "name": "stdout",
     "output_type": "stream",
     "text": [
      "Task 'Watch a Movie' removed.\n",
      "Welcome to the To-Do List Manager!\n",
      "1. Add Task\n",
      "2. Mark Task as Completed\n",
      "3. List Tasks\n",
      "4. Remove Task\n",
      "5. Quit\n"
     ]
    },
    {
     "name": "stdin",
     "output_type": "stream",
     "text": [
      "Enter your choice:  3\n"
     ]
    },
    {
     "name": "stdout",
     "output_type": "stream",
     "text": [
      "Task List:\n",
      "0. Early Physical Activity Done\n",
      "1. Eat Some(Healthy) Food Done\n",
      "2. Take a Shower! Done\n",
      "3. Take a Nature Walk Not Done\n",
      "Welcome to the To-Do List Manager!\n",
      "1. Add Task\n",
      "2. Mark Task as Completed\n",
      "3. List Tasks\n",
      "4. Remove Task\n",
      "5. Quit\n"
     ]
    },
    {
     "name": "stdin",
     "output_type": "stream",
     "text": [
      "Enter your choice:  5\n"
     ]
    },
    {
     "name": "stdout",
     "output_type": "stream",
     "text": [
      "Goodbye!\n"
     ]
    }
   ],
   "source": [
    "def display_menu():\n",
    "    # Display the main menu options\n",
    "    print(\"Welcome to the To-Do List Manager!\")\n",
    "    print(\"1. Add Task\")\n",
    "    print(\"2. Mark Task as Completed\")\n",
    "    print(\"3. List Tasks\")\n",
    "    print(\"4. Remove Task\")\n",
    "    print(\"5. Quit\")\n",
    "\n",
    "\n",
    "def add_task(task_list):\n",
    "    \"\"\"\n",
    "    The function is used for adding a new task to the provided list of tasks.\n",
    "    First line prompts the user to input a task description\n",
    "    The user's input is then stored in the variable task. \n",
    "    The next line appends a new dictionary to the task_list.\n",
    "    \"\"\"\n",
    "\n",
    "    task = input(\"Enter the task description: \")\n",
    "    task_list.append({\"description\": task, \"completed\": False})\n",
    "    print(\"Task added!\")\n",
    "\n",
    "def mark_task_completed(task_list):\n",
    "    \"\"\"\n",
    "    The function is used to mark a task as completed in task_list. The next line of code displays the list of tasks.\n",
    "    This function is expected to iterate through the task_list and display the task descriptions along with their completion status.\n",
    "    The outer if statement checks whether the entered index is within the valid range for the task_list.\n",
    "    The inner if statement checks if the task at the specified index is not already marked as completed. \n",
    "    If the task is not completed, the code block under this condition is executed.\n",
    "    If the task at the specified index is already marked as completed, the inner else statement is executed.\n",
    "    \"\"\"\n",
    "    print(\"Tasks:\")\n",
    "    list_tasks(task_list)\n",
    "    index = int(input(\"Enter the index of the task to mark as completed: \"))\n",
    "    if (0 <= index) and (index < len(task_list)):\n",
    "        if not task_list[index][\"completed\"]:\n",
    "            task_list[index][\"completed\"] = True\n",
    "            print(\"Task marked as completed!\")\n",
    "        else:\n",
    "            print(\"Task is already completed.\")\n",
    "    else:\n",
    "        print(\"Invalid index.\")\n",
    "\n",
    "def list_tasks(task_list):\n",
    "    \"\"\"\n",
    "    This code defines a function named list_tasks that's used to display the tasks in a user-friendly format.\n",
    "    The for loop iterates through each task in the task_list using the enumerate function. \n",
    "    The enumerate function returns both the index and the value of each item in the list.\n",
    "    The conditional determines the status of the task, whether it's completed or not and the outcome stored is status variable.\n",
    "    \"\"\"\n",
    "    print(\"Task List:\")\n",
    "    for index, task in enumerate(task_list):\n",
    "        status = \"Done\" if task[\"completed\"] else \"Not Done\"\n",
    "        print(f\"{index}. {task['description']} {status}\")\n",
    "\n",
    "def remove_task(task_list):\n",
    "    \"\"\"\n",
    "    The remove_task function allows the user to input an index, and if the index is valid, \n",
    "    it removes the corresponding task from the list and provides appropriate feedback.\n",
    "    \"\"\"\n",
    "    print(\"Tasks:\")\n",
    "    list_tasks(task_list)\n",
    "    index = int(input(\"Enter the index of the task to remove: \"))\n",
    "    if (0 <= index) and (index < len(task_list)):\n",
    "        removed_task = task_list.pop(index)\n",
    "        print(f\"Task '{removed_task['description']}' removed.\")\n",
    "    else:\n",
    "        print(\"Invalid index.\")\n",
    "\n",
    "def main():\n",
    "    \"\"\"\n",
    "    main function creates a simple task management program that presents a menu to the user \n",
    "    with different options for interacting with a list of tasks.\n",
    "    The first line in the while loop, presumably calls a function display_menu() to show a menu to the user.\n",
    "    \"\"\"\n",
    "    tasks = []\n",
    "    while True:\n",
    "        display_menu()\n",
    "        choice = input(\"Enter your choice: \")\n",
    "        \n",
    "        if choice == \"1\":\n",
    "            add_task(tasks)\n",
    "        elif choice == \"2\":\n",
    "            mark_task_completed(tasks)\n",
    "        elif choice == \"3\":\n",
    "            list_tasks(tasks)\n",
    "        elif choice == \"4\":\n",
    "            remove_task(tasks)\n",
    "        elif choice == \"5\":\n",
    "            print(\"Goodbye!\")\n",
    "            break\n",
    "        else:\n",
    "            print(\"Invalid choice. Please choose a valid option.\")\n",
    "\n",
    "\n",
    "if __name__ == \"__main__\":\n",
    "    main()\n",
    "    \"\"\"\n",
    "    if __name__ == __main__: ensures that the main() function is executed only when the script is run as the main program, \n",
    "    not when it's imported as a module. This is a common practice to allow a script to be both run directly and \n",
    "    imported into other scripts without unintended side effects.\n",
    "    \"\"\""
   ]
  },
  {
   "cell_type": "code",
   "execution_count": null,
   "metadata": {},
   "outputs": [],
   "source": []
  }
 ],
 "metadata": {
  "kernelspec": {
   "display_name": "Python 3",
   "language": "python",
   "name": "python3"
  },
  "language_info": {
   "codemirror_mode": {
    "name": "ipython",
    "version": 3
   },
   "file_extension": ".py",
   "mimetype": "text/x-python",
   "name": "python",
   "nbconvert_exporter": "python",
   "pygments_lexer": "ipython3",
   "version": "3.8.5"
  }
 },
 "nbformat": 4,
 "nbformat_minor": 4
}
